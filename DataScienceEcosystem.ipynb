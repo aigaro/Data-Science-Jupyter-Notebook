{
 "cells": [
  {
   "cell_type": "markdown",
   "id": "be0aa47f-9e11-400e-a08f-8024d38b03ad",
   "metadata": {},
   "source": [
    "# Data Science Tools and Ecosystem"
   ]
  },
  {
   "cell_type": "markdown",
   "id": "6a26dc00-305e-4673-8aa3-f828babfe8da",
   "metadata": {},
   "source": [
    "## Author\n",
    "Aigar Ottas"
   ]
  },
  {
   "cell_type": "markdown",
   "id": "216a8e25-871a-4aaf-86dc-6a61c594b9f4",
   "metadata": {},
   "source": [
    "In this notebook, Data Science Tools and Ecosystem are summarized."
   ]
  },
  {
   "cell_type": "markdown",
   "id": "fd1ffa97-9123-46f0-8029-130d9b2a0067",
   "metadata": {},
   "source": [
    "**Objectives:**\n",
    "List popular languages for Data Science:\n",
    "\n",
    "- R\n",
    "- Python\n",
    "- Julia\n",
    "- C++"
   ]
  },
  {
   "cell_type": "markdown",
   "id": "e39fe2f6-04c4-4940-9fe8-d69c09295e31",
   "metadata": {},
   "source": [
    "Some of the popular languages that Data Scientists use are:\n",
    "\n",
    "1) Python\n",
    "2) R\n",
    "3) Julia\n",
    "4) C++"
   ]
  },
  {
   "cell_type": "markdown",
   "id": "61e833e1-0b45-4565-9c78-cf89e69df03d",
   "metadata": {},
   "source": [
    "Some of the commonly used libraries used by Data Scientists include:\n",
    "\n",
    "1) Pandas\n",
    "2) Scikit-learn\n",
    "3) Matplotlib\n",
    "4) NumPy\n",
    "5) PyTorch\n"
   ]
  },
  {
   "cell_type": "markdown",
   "id": "6667487c-488c-4cb0-93d6-b4448fb117b1",
   "metadata": {},
   "source": [
    "| Data Science Tools |\n",
    "| -------------| \n",
    "| Rstudio |\n",
    "| VS Code | \n",
    "| Spyder | "
   ]
  },
  {
   "cell_type": "markdown",
   "id": "02a27d13-dee7-455c-8ad7-0bd5003f6772",
   "metadata": {},
   "source": [
    "### Below are a few examples of evaluating arithmetic expressions in Python"
   ]
  },
  {
   "cell_type": "code",
   "execution_count": 1,
   "id": "7430515a-4351-411f-bc36-f6d320632127",
   "metadata": {
    "tags": []
   },
   "outputs": [
    {
     "data": {
      "text/plain": [
       "17"
      ]
     },
     "execution_count": 1,
     "metadata": {},
     "output_type": "execute_result"
    }
   ],
   "source": [
    "# This a simple arithmetic expression to multiply then add integers\n",
    "(3*4)+5"
   ]
  },
  {
   "cell_type": "code",
   "execution_count": 2,
   "id": "fae43d76-81e3-4a31-ab11-87bbb57daaf9",
   "metadata": {
    "tags": []
   },
   "outputs": [
    {
     "data": {
      "text/plain": [
       "3.3333333333333335"
      ]
     },
     "execution_count": 2,
     "metadata": {},
     "output_type": "execute_result"
    }
   ],
   "source": [
    "# This will convert 200 minutes to hours by diving by 60\n",
    "200 / 60"
   ]
  },
  {
   "cell_type": "code",
   "execution_count": null,
   "id": "22b223b6-b55c-4611-bfed-62b6712e6349",
   "metadata": {},
   "outputs": [],
   "source": []
  }
 ],
 "metadata": {
  "kernelspec": {
   "display_name": "Python 3 (ipykernel)",
   "language": "python",
   "name": "python3"
  },
  "language_info": {
   "codemirror_mode": {
    "name": "ipython",
    "version": 3
   },
   "file_extension": ".py",
   "mimetype": "text/x-python",
   "name": "python",
   "nbconvert_exporter": "python",
   "pygments_lexer": "ipython3",
   "version": "3.11.4"
  }
 },
 "nbformat": 4,
 "nbformat_minor": 5
}
